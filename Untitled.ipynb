{
 "cells": [
  {
   "cell_type": "code",
   "execution_count": 1,
   "id": "18b92f62-a11d-4718-acab-1a019ed4449c",
   "metadata": {},
   "outputs": [],
   "source": [
    "import torch\n",
    "from torch import nn\n",
    "from torch.utils.data import DataLoader\n",
    "from torchvision import datasets\n",
    "from torchvision.transforms import ToTensor"
   ]
  },
  {
   "cell_type": "markdown",
   "id": "040955ec-a0f5-45dd-9e41-8bc5ae55895b",
   "metadata": {},
   "source": [
    "This is an equation: \n",
    "\n",
    "$$\\alpha + \\frac{\\beta}{2} - \\frac{\\vec{\\zeta} \\cdot \\vec{\\alpha}}{2 \\xi}$$\n",
    "\n",
    "Here is another one:\n",
    "\n",
    "$$\\int _{a}^{b} x ^{2} \\; d x =  { \\left\\lbrack \\frac{x ^{3}}{3} \\right\\rbrack }  _{a}^{b} =  { \\left\\lparen \\frac{b ^{3} - a ^{3}}{3} \\right\\rparen }$$\n",
    "\n",
    "$$\\vec{\\alpha} + \\frac{\\vec{\\beta}}{2}$$\n",
    "\n",
    "And yet another one:\n",
    "\n",
    "$$\n",
    "\n",
    "$$x = \\frac{- b \\pm \\sqrt{b ^{2} - 4 a c}}{2 a}$$\n",
    "$$- \\frac{\\hbar ^{2}}{2 m} \\frac{\\partial ^{2} \\Psi}{\\partial x ^{2}} + V  \\lparen x \\rparen  \\Psi = i \\hbar \\frac{\\partial \\Psi}{\\partial t}$$\n",
    "\n",
    "Start with $\\alpha$ and then we get $\\beta$ to be the only one we really care about, after all $\\vec{\\beta}$ "
   ]
  },
  {
   "cell_type": "code",
   "execution_count": 1,
   "id": "55c0575a-a8af-42e7-82f7-449da41eca5a",
   "metadata": {},
   "outputs": [
    {
     "ename": "NameError",
     "evalue": "name 'datasets' is not defined",
     "output_type": "error",
     "traceback": [
      "\u001b[0;31m---------------------------------------------------------------------------\u001b[0m",
      "\u001b[0;31mNameError\u001b[0m                                 Traceback (most recent call last)",
      "Cell \u001b[0;32mIn[1], line 2\u001b[0m\n\u001b[1;32m      1\u001b[0m \u001b[38;5;66;03m# Download training data from open datasets.\u001b[39;00m\n\u001b[0;32m----> 2\u001b[0m training_data \u001b[38;5;241m=\u001b[39m \u001b[43mdatasets\u001b[49m\u001b[38;5;241m.\u001b[39mFashionMNIST(\n\u001b[1;32m      3\u001b[0m     root\u001b[38;5;241m=\u001b[39m\u001b[38;5;124m\"\u001b[39m\u001b[38;5;124mdata\u001b[39m\u001b[38;5;124m\"\u001b[39m,\n\u001b[1;32m      4\u001b[0m     train\u001b[38;5;241m=\u001b[39m\u001b[38;5;28;01mTrue\u001b[39;00m,\n\u001b[1;32m      5\u001b[0m     download\u001b[38;5;241m=\u001b[39m\u001b[38;5;28;01mTrue\u001b[39;00m,\n\u001b[1;32m      6\u001b[0m     transform\u001b[38;5;241m=\u001b[39mToTensor(),\n\u001b[1;32m      7\u001b[0m )\n\u001b[1;32m      9\u001b[0m \u001b[38;5;66;03m# Download test data from open datasets.\u001b[39;00m\n\u001b[1;32m     10\u001b[0m test_data \u001b[38;5;241m=\u001b[39m datasets\u001b[38;5;241m.\u001b[39mFashionMNIST(\n\u001b[1;32m     11\u001b[0m     root\u001b[38;5;241m=\u001b[39m\u001b[38;5;124m\"\u001b[39m\u001b[38;5;124mdata\u001b[39m\u001b[38;5;124m\"\u001b[39m,\n\u001b[1;32m     12\u001b[0m     train\u001b[38;5;241m=\u001b[39m\u001b[38;5;28;01mFalse\u001b[39;00m,\n\u001b[1;32m     13\u001b[0m     download\u001b[38;5;241m=\u001b[39m\u001b[38;5;28;01mTrue\u001b[39;00m,\n\u001b[1;32m     14\u001b[0m     transform\u001b[38;5;241m=\u001b[39mToTensor(),\n\u001b[1;32m     15\u001b[0m )\n",
      "\u001b[0;31mNameError\u001b[0m: name 'datasets' is not defined"
     ]
    }
   ],
   "source": [
    "# Download training data from open datasets.\n",
    "training_data = datasets.FashionMNIST(\n",
    "    root=\"data\",\n",
    "    train=True,\n",
    "    download=True,\n",
    "    transform=ToTensor(),\n",
    ")\n",
    "\n",
    "# Download test data from open datasets.\n",
    "test_data = datasets.FashionMNIST(\n",
    "    root=\"data\",\n",
    "    train=False,\n",
    "    download=True,\n",
    "    transform=ToTensor(),\n",
    ")"
   ]
  },
  {
   "cell_type": "code",
   "execution_count": 5,
   "id": "4fd6ae9d-d0e4-47c6-82eb-e227677f3b2c",
   "metadata": {},
   "outputs": [
    {
     "data": {
      "text/plain": [
       "'Dataset FashionMNIST\\n    Number of datapoints: 60000\\n    Root location: data\\n    Split: Train\\n    StandardTransform\\nTransform: ToTensor()'"
      ]
     },
     "execution_count": 5,
     "metadata": {},
     "output_type": "execute_result"
    }
   ],
   "source": [
    "repr(training_data)"
   ]
  },
  {
   "cell_type": "code",
   "execution_count": 6,
   "id": "800ec5f4-15f5-4804-9048-64c77211f08c",
   "metadata": {},
   "outputs": [],
   "source": [
    "class NeuralNetwork(nn.Module):\n",
    "    def __init__(self):\n",
    "        super().__init__()\n",
    "        self.flatten = nn.Flatten()\n",
    "        self.linear_relu_stack = nn.Sequential(\n",
    "            nn.Linear(28*28, 512),\n",
    "            nn.ReLU(),\n",
    "            nn.Linear(512, 512),\n",
    "            nn.ReLU(),\n",
    "            nn.Linear(512, 10)\n",
    "        )\n",
    "\n",
    "    def forward(self, x):\n",
    "        x = self.flatten(x)\n",
    "        logits = self.linear_relu_stack(x)\n",
    "        return logits"
   ]
  },
  {
   "cell_type": "code",
   "execution_count": 7,
   "id": "2602a7f2-76a5-4f2c-85fb-455bc5fa213b",
   "metadata": {},
   "outputs": [],
   "source": [
    "model = NeuralNetwork()"
   ]
  },
  {
   "cell_type": "code",
   "execution_count": 9,
   "id": "47d0e011-3f01-44b6-86d9-221d966208df",
   "metadata": {},
   "outputs": [
    {
     "data": {
      "text/plain": [
       "'NeuralNetwork(\\n  (flatten): Flatten(start_dim=1, end_dim=-1)\\n  (linear_relu_stack): Sequential(\\n    (0): Linear(in_features=784, out_features=512, bias=True)\\n    (1): ReLU()\\n    (2): Linear(in_features=512, out_features=512, bias=True)\\n    (3): ReLU()\\n    (4): Linear(in_features=512, out_features=10, bias=True)\\n  )\\n)'"
      ]
     },
     "execution_count": 9,
     "metadata": {},
     "output_type": "execute_result"
    }
   ],
   "source": [
    "str(model)"
   ]
  },
  {
   "cell_type": "code",
   "execution_count": 10,
   "id": "4565adf5-6e13-4554-baa3-560263889e47",
   "metadata": {},
   "outputs": [],
   "source": [
    "loss_fn = nn.CrossEntropyLoss()\n",
    "optimizer = torch.optim.SGD(model.parameters(), lr=1e-3)"
   ]
  },
  {
   "cell_type": "code",
   "execution_count": 12,
   "id": "f0a58665-fee4-499e-9d1a-b05737bc293b",
   "metadata": {},
   "outputs": [
    {
     "data": {
      "text/plain": [
       "'SGD (\\nParameter Group 0\\n    dampening: 0\\n    differentiable: False\\n    foreach: None\\n    lr: 0.001\\n    maximize: False\\n    momentum: 0\\n    nesterov: False\\n    weight_decay: 0\\n)'"
      ]
     },
     "execution_count": 12,
     "metadata": {},
     "output_type": "execute_result"
    }
   ],
   "source": [
    "str(optimizer)"
   ]
  },
  {
   "cell_type": "code",
   "execution_count": 16,
   "id": "9fb9d2c9-e345-41e7-9f35-58bbfd3864e2",
   "metadata": {},
   "outputs": [
    {
     "data": {
      "text/plain": [
       "tensor([[-6.5928e-03,  8.4692e-03, -1.2310e-02,  ..., -1.2604e-02,\n",
       "         -3.0192e-02,  1.7680e-02],\n",
       "        [-3.1838e-02,  6.7792e-03, -3.3497e-02,  ...,  1.2240e-02,\n",
       "         -3.0414e-02, -2.9375e-02],\n",
       "        [ 5.9295e-03, -1.8803e-02, -1.0908e-02,  ...,  9.5053e-03,\n",
       "         -2.9144e-02, -6.8430e-05],\n",
       "        ...,\n",
       "        [-2.3076e-02,  2.5619e-02,  1.4932e-02,  ...,  1.8313e-02,\n",
       "          1.8154e-04,  2.5871e-02],\n",
       "        [ 2.8060e-02, -5.4781e-03, -1.7927e-02,  ...,  2.0277e-02,\n",
       "          1.4640e-02,  7.1313e-03],\n",
       "        [ 1.5164e-02,  1.6754e-02, -8.9613e-03,  ...,  3.3997e-02,\n",
       "          3.2818e-02, -2.2564e-02]])"
      ]
     },
     "execution_count": 16,
     "metadata": {},
     "output_type": "execute_result"
    }
   ],
   "source": [
    "model.linear_relu_stack[0].weight.data"
   ]
  },
  {
   "cell_type": "code",
   "execution_count": null,
   "id": "22389ec8-98f8-42ed-a6d4-45ddc72bccc9",
   "metadata": {},
   "outputs": [],
   "source": []
  }
 ],
 "metadata": {
  "kernelspec": {
   "display_name": "Python 3 (ipykernel)",
   "language": "python",
   "name": "python3"
  },
  "language_info": {
   "codemirror_mode": {
    "name": "ipython",
    "version": 3
   },
   "file_extension": ".py",
   "mimetype": "text/x-python",
   "name": "python",
   "nbconvert_exporter": "python",
   "pygments_lexer": "ipython3",
   "version": "3.11.6"
  }
 },
 "nbformat": 4,
 "nbformat_minor": 5
}

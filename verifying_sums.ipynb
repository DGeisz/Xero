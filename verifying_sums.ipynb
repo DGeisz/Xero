{
 "cells": [
  {
   "cell_type": "markdown",
   "id": "3c228ba9-4a3e-44d9-b353-3b8e6fea0263",
   "metadata": {},
   "source": [
    "Consider the sum\n",
    "\n",
    "$$"
   ]
  },
  {
   "cell_type": "code",
   "execution_count": null,
   "id": "75619be6-3d9f-41c1-9a04-a68c488fad35",
   "metadata": {},
   "outputs": [],
   "source": []
  }
 ],
 "metadata": {
  "kernelspec": {
   "display_name": "Python 3 (ipykernel)",
   "language": "python",
   "name": "python3"
  },
  "language_info": {
   "codemirror_mode": {
    "name": "ipython",
    "version": 3
   },
   "file_extension": ".py",
   "mimetype": "text/x-python",
   "name": "python",
   "nbconvert_exporter": "python",
   "pygments_lexer": "ipython3",
   "version": "3.11.6"
  }
 },
 "nbformat": 4,
 "nbformat_minor": 5
}
